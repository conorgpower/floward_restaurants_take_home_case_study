{
 "cells": [
  {
   "cell_type": "markdown",
   "metadata": {},
   "source": [
    "# **Model**"
   ]
  },
  {
   "cell_type": "code",
   "execution_count": 32,
   "metadata": {},
   "outputs": [],
   "source": [
    "import pandas as pd\n",
    "import catboost as cb\n",
    "from datetime import datetime\n",
    "from sklearn.model_selection import train_test_split\n",
    "from sklearn.metrics import mean_absolute_error\n",
    "from category_encoders import TargetEncoder\n",
    "from sklearn import linear_model\n",
    "from category_encoders import CatBoostEncoder\n",
    "from catboost import CatBoostClassifier\n",
    "from sklearn.model_selection import GridSearchCV"
   ]
  },
  {
   "cell_type": "code",
   "execution_count": 33,
   "metadata": {},
   "outputs": [],
   "source": [
    "df_train = pd.read_csv(\"data/train.csv\")"
   ]
  },
  {
   "cell_type": "code",
   "execution_count": 34,
   "metadata": {},
   "outputs": [
    {
     "data": {
      "text/plain": [
       "order_value_gbp            float64\n",
       "restaurant_id                int64\n",
       "number_of_items              int64\n",
       "prep_time_seconds            int64\n",
       "city                        object\n",
       "type_of_food                object\n",
       "day                         object\n",
       "hour                         int64\n",
       "average_prep_resteraunt    float64\n",
       "min_prep_restauraunt         int64\n",
       "max_prep_restauraunt         int64\n",
       "dtype: object"
      ]
     },
     "execution_count": 34,
     "metadata": {},
     "output_type": "execute_result"
    }
   ],
   "source": [
    "df_train.dtypes"
   ]
  },
  {
   "cell_type": "code",
   "execution_count": 35,
   "metadata": {},
   "outputs": [],
   "source": [
    "cat_columns = [\"city\", \"type_of_food\", \"day\"]\n",
    "\n",
    "# df_train = TargetEncoder(cols=cat_columns, smoothing=1.0).fit(df_train, df_train['prep_time_seconds']).transform(df_train)\n",
    "encoder = CatBoostEncoder(cols=cat_columns)\n",
    "df_train = encoder.fit_transform(df_train, df_train[\"prep_time_seconds\"])"
   ]
  },
  {
   "cell_type": "code",
   "execution_count": 36,
   "metadata": {},
   "outputs": [],
   "source": [
    "X = df_train.drop(columns=['prep_time_seconds'])\n",
    "y = df_train['prep_time_seconds']\n",
    "\n",
    "X_train, X_test, y_train, y_test = train_test_split(X, y, random_state=42)"
   ]
  },
  {
   "cell_type": "code",
   "execution_count": 37,
   "metadata": {},
   "outputs": [
    {
     "name": "stdout",
     "output_type": "stream",
     "text": [
      "Length of training data:  24181\n",
      "Length of test data:  8061\n"
     ]
    }
   ],
   "source": [
    "print(\"Length of training data: \", len(X_train))\n",
    "print(\"Length of test data: \", len(X_test))"
   ]
  },
  {
   "cell_type": "markdown",
   "metadata": {},
   "source": [
    "## Linear Regression"
   ]
  },
  {
   "cell_type": "code",
   "execution_count": 38,
   "metadata": {},
   "outputs": [
    {
     "name": "stdout",
     "output_type": "stream",
     "text": [
      "Mean Absolute Error : 537.8429039725107\n"
     ]
    }
   ],
   "source": [
    "reg = linear_model.LinearRegression()\n",
    "reg.fit(X_train, y_train)\n",
    "y_pred = reg.predict(X_test)\n",
    "\n",
    "print(\"Mean Absolute Error : \" + str(mean_absolute_error(y_pred, y_test)))"
   ]
  },
  {
   "cell_type": "markdown",
   "metadata": {},
   "source": [
    "## CatBoost"
   ]
  },
  {
   "cell_type": "code",
   "execution_count": 39,
   "metadata": {},
   "outputs": [
    {
     "name": "stdout",
     "output_type": "stream",
     "text": [
      "Started Training\n",
      "- Target:  prep_time_seconds\n",
      "- Input Size: 24181\n",
      "- Inputs: order_value_gbp, restaurant_id, number_of_items, city, type_of_food, day, hour, average_prep_resteraunt, min_prep_restauraunt, max_prep_restauraunt\n",
      "- Categorical: city, type_of_food, day\n",
      "- Model\n",
      "-- Loss: MAE\n",
      "-- Metric: MAE\n",
      "-- Parameters: {'thread_count': -1, 'task_type': 'CPU', 'loss_function': 'MAE', 'eval_metric': 'MAE', 'verbose': False, 'depth': 16, 'iterations': 30, 'learning_rate': 0.1, 'l2_leaf_reg': 25, 'border_count': 256, 'grow_policy': 'SymmetricTree', 'random_seed': 42}\n",
      "0:\tlearn: 569.6100190\ttotal: 3.95s\tremaining: 1m 54s\n",
      "25:\tlearn: 377.8250291\ttotal: 1m 27s\tremaining: 13.5s\n",
      "29:\tlearn: 367.9230139\ttotal: 1m 39s\tremaining: 0us\n",
      "- Evaluation\n",
      "-- RMSE 923.7959299600234\n",
      "-- MAPE 4.908900690690161\n",
      "-- MAE 444.3025128998352\n",
      "-- R2 0.26561566007970017\n",
      "-- MedianAbsoluteError 240.51253294814455\n"
     ]
    }
   ],
   "source": [
    "target = \"prep_time_seconds\"\n",
    "loss = \"MAE\"\n",
    "metric = \"MAE\"\n",
    "iterations = 30\n",
    "\n",
    "model_params = {\n",
    "    \"thread_count\": -1,\n",
    "    \"task_type\": \"CPU\",\n",
    "    \"loss_function\": loss,\n",
    "    \"eval_metric\": metric,\n",
    "    \"verbose\": False,\n",
    "    \"depth\": 16,\n",
    "    \"iterations\": iterations,\n",
    "    \"learning_rate\": 0.1,\n",
    "    \"l2_leaf_reg\": 25,\n",
    "    \"border_count\": 256,\n",
    "    \"grow_policy\": \"SymmetricTree\",\n",
    "    \"random_seed\": 42,\n",
    "}\n",
    "\n",
    "print(\"Started Training\")\n",
    "print(\"- Target: \", target)\n",
    "print(\"- Input Size:\", X_train.shape[0])\n",
    "print(\"- Inputs:\", \", \".join(X_train.columns))\n",
    "print(\"- Categorical:\", \", \".join(cat_columns))\n",
    "print(\"- Model\")\n",
    "print(\"-- Loss:\", loss)\n",
    "print(\"-- Metric:\", metric)\n",
    "print(\"-- Parameters:\", model_params)\n",
    "\n",
    "train_pool = cb.Pool(X_train, label=y_train)\n",
    "\n",
    "model = cb.CatBoost(model_params)\n",
    "model.fit(train_pool, plot=False, verbose=25)\n",
    "model_name = f\"models/model.cbm\"\n",
    "model.save_model(model_name)\n",
    "\n",
    "eval = [\"RMSE\", \"MAPE\", \"MAE\", \"R2\", \"MedianAbsoluteError\"]\n",
    "\n",
    "test_pool = cb.Pool(X_test, y_test)\n",
    "\n",
    "print(\"- Evaluation\")\n",
    "results = model.eval_metrics(test_pool, eval)\n",
    "eval = {}\n",
    "for e in results.keys():\n",
    "    eval[e] = round(results[e][-1], 4)\n",
    "    print(\"--\", e, results[e][-1])\n",
    "\n",
    "uniques = {}\n",
    "for c in cat_columns:\n",
    "    uniques[c] = list(X_train[c].unique())\n",
    "\n",
    "importance = model.get_feature_importance(type=\"FeatureImportance\", prettified=True)\n",
    "importance = {i[\"Feature Id\"]: round(i[\"Importances\"], 2) for _, i in importance.iterrows()}\n",
    "\n",
    "metadata = {\n",
    "    \"Date\": datetime.now().strftime(\"%Y/%m/%d %H:%M:%S\"),\n",
    "    \"Training Data Size\": len(X_train),\n",
    "    \"Evaluation\": {\"Metrics\": eval, \"Size\": len(X_test)},\n",
    "    \"Feature Importance\": importance,\n",
    "    \"Model Parameters\": model_params,\n",
    "    \"Target\": target,\n",
    "    \"Input Columns\": list(X_train.columns),\n",
    "    \"Categorical Columns\": list(cat_columns),\n",
    "    \"Categorical Possible Values\": uniques,\n",
    "}\n"
   ]
  },
  {
   "cell_type": "code",
   "execution_count": 40,
   "metadata": {},
   "outputs": [
    {
     "data": {
      "text/plain": [
       "{'hour': 29.08,\n",
       " 'order_value_gbp': 9.69,\n",
       " 'max_prep_restauraunt': 9.35,\n",
       " 'average_prep_resteraunt': 9.32,\n",
       " 'min_prep_restauraunt': 8.09,\n",
       " 'number_of_items': 7.18,\n",
       " 'type_of_food': 7.15,\n",
       " 'restaurant_id': 6.83,\n",
       " 'day': 6.72,\n",
       " 'city': 6.59}"
      ]
     },
     "execution_count": 40,
     "metadata": {},
     "output_type": "execute_result"
    }
   ],
   "source": [
    "importance"
   ]
  },
  {
   "cell_type": "markdown",
   "metadata": {},
   "source": [
    "## Hyperparameter Tuning"
   ]
  },
  {
   "cell_type": "code",
   "execution_count": 41,
   "metadata": {},
   "outputs": [],
   "source": [
    "# parameters = {\n",
    "#     'depth'         : [4, 5, 6, 7, 8, 9, 10],\n",
    "#     'learning_rate' : [0.1, 0.2, 0.3, 0.4],\n",
    "#     'iterations'    : [10, 20, 30, 40, 50, 60, 70, 80, 90, 100],\n",
    "# }\n",
    "\n",
    "# model = cb.CatBoostClassifier()\n",
    "\n",
    "# Grid_CB = GridSearchCV(estimator=model, param_grid = parameters, cv = 2, n_jobs=-1)\n",
    "# Grid_CB.fit(X_train, y_train)\n",
    "\n",
    "# print(\" Results from Grid Search \" )\n",
    "# print(\"\\n The best estimator across ALL searched params:\\n\",Grid_CB.best_estimator_)\n",
    "# print(\"\\n The best score across ALL searched params:\\n\",Grid_CB.best_score_)\n",
    "# print(\"\\n The best parameters across ALL searched params:\\n\",Grid_CB.best_params_)"
   ]
  },
  {
   "cell_type": "code",
   "execution_count": null,
   "metadata": {},
   "outputs": [],
   "source": []
  }
 ],
 "metadata": {
  "kernelspec": {
   "display_name": "Python 3.9.13 64-bit",
   "language": "python",
   "name": "python3"
  },
  "language_info": {
   "codemirror_mode": {
    "name": "ipython",
    "version": 3
   },
   "file_extension": ".py",
   "mimetype": "text/x-python",
   "name": "python",
   "nbconvert_exporter": "python",
   "pygments_lexer": "ipython3",
   "version": "3.9.13"
  },
  "orig_nbformat": 4,
  "vscode": {
   "interpreter": {
    "hash": "aee8b7b246df8f9039afb4144a1f6fd8d2ca17a180786b69acc140d282b71a49"
   }
  }
 },
 "nbformat": 4,
 "nbformat_minor": 2
}
