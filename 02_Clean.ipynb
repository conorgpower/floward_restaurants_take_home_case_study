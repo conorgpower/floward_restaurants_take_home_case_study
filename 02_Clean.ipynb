{
 "cells": [
  {
   "cell_type": "markdown",
   "metadata": {},
   "source": [
    "# **Clean**"
   ]
  },
  {
   "cell_type": "code",
   "execution_count": 73,
   "metadata": {},
   "outputs": [],
   "source": [
    "import pandas as pd\n",
    "import seaborn as sns\n",
    "import matplotlib.pyplot as plt\n",
    "import numpy as np\n",
    "from scipy import stats"
   ]
  },
  {
   "cell_type": "markdown",
   "metadata": {},
   "source": [
    "## Read Data"
   ]
  },
  {
   "cell_type": "code",
   "execution_count": 74,
   "metadata": {},
   "outputs": [],
   "source": [
    "df_orders = pd.read_csv(\"raw/orders.csv\")\n",
    "df_restaurants = pd.read_csv(\"raw/restaurants.csv\")"
   ]
  },
  {
   "cell_type": "markdown",
   "metadata": {},
   "source": [
    "## Cleaning Columns"
   ]
  },
  {
   "cell_type": "code",
   "execution_count": 75,
   "metadata": {},
   "outputs": [
    {
     "name": "stdout",
     "output_type": "stream",
     "text": [
      "Orders Columns: \n",
      " Index(['order_acknowledged_at', 'order_ready_at', 'order_value_gbp',\n",
      "       'restaurant_id', 'number_of_items', 'prep_time_seconds'],\n",
      "      dtype='object')\n",
      "Restaurants Columns: \n",
      " Index(['restaurant_id', 'country', 'city', 'type_of_food'], dtype='object')\n"
     ]
    }
   ],
   "source": [
    "print(\"Orders Columns: \\n\", df_orders.columns)\n",
    "print(\"Restaurants Columns: \\n\", df_restaurants.columns)"
   ]
  },
  {
   "cell_type": "markdown",
   "metadata": {},
   "source": [
    "### *df_orders.order_acknowledged_at*"
   ]
  },
  {
   "cell_type": "code",
   "execution_count": 76,
   "metadata": {},
   "outputs": [
    {
     "data": {
      "text/plain": [
       "0        2015-06-01 12:28:28.952789+01:00\n",
       "1        2015-06-06 17:06:24.434807+01:00\n",
       "2        2015-06-08 14:56:15.503204+01:00\n",
       "3        2015-06-12 15:12:20.497925+01:00\n",
       "4        2015-06-01 13:07:10.794050+01:00\n",
       "                       ...               \n",
       "32389    2015-06-30 21:00:29.131078+01:00\n",
       "32390    2015-06-30 22:30:51.123180+02:00\n",
       "32391    2015-06-30 21:50:11.585362+01:00\n",
       "32392    2015-06-30 22:17:55.778938+01:00\n",
       "32393    2015-06-30 22:55:39.128579+01:00\n",
       "Name: order_acknowledged_at, Length: 32394, dtype: object"
      ]
     },
     "execution_count": 76,
     "metadata": {},
     "output_type": "execute_result"
    }
   ],
   "source": [
    "df_orders.order_acknowledged_at"
   ]
  },
  {
   "cell_type": "markdown",
   "metadata": {},
   "source": [
    "The datetime column can be broken down to year, month, day of the week and hour of the day which may be good predictors."
   ]
  },
  {
   "cell_type": "markdown",
   "metadata": {},
   "source": [
    "### *df_orders.order_ready_at*"
   ]
  },
  {
   "cell_type": "code",
   "execution_count": 77,
   "metadata": {},
   "outputs": [],
   "source": [
    "df_orders = df_orders.drop(columns=[\"order_ready_at\"])"
   ]
  },
  {
   "cell_type": "markdown",
   "metadata": {},
   "source": [
    "This column can not be used as it will not be available when predicting prep time."
   ]
  },
  {
   "cell_type": "markdown",
   "metadata": {},
   "source": [
    "### *df_orders.order_value_gbp*"
   ]
  },
  {
   "cell_type": "code",
   "execution_count": 78,
   "metadata": {},
   "outputs": [
    {
     "data": {
      "text/plain": [
       "15.000000     549\n",
       "15.500000     495\n",
       "16.000000     466\n",
       "17.000000     395\n",
       "18.000000     321\n",
       "             ... \n",
       "76.950000       1\n",
       "139.450000      1\n",
       "232.750000      1\n",
       "83.400000       1\n",
       "29.354365       1\n",
       "Name: order_value_gbp, Length: 2845, dtype: int64"
      ]
     },
     "execution_count": 78,
     "metadata": {},
     "output_type": "execute_result"
    }
   ],
   "source": [
    "df_orders.order_value_gbp.value_counts(dropna=False)"
   ]
  },
  {
   "cell_type": "markdown",
   "metadata": {},
   "source": [
    "### *df_orders.prep_time_seconds*"
   ]
  },
  {
   "cell_type": "code",
   "execution_count": 79,
   "metadata": {},
   "outputs": [
    {
     "name": "stdout",
     "output_type": "stream",
     "text": [
      "99th percentile took 2.120613888888889  hours.\n",
      "Longest delivery took  2.957164351851852  days.\n",
      "9807     255499\n",
      "31228    116038\n",
      "13166    113157\n",
      "31749    111836\n",
      "20760    110198\n",
      "26678    108401\n",
      "25431    108133\n",
      "24550    107307\n",
      "31756    100538\n",
      "28451     98865\n",
      "16170     97102\n",
      "26721     97086\n",
      "28907     96664\n",
      "16267     93471\n",
      "30267     92279\n",
      "19301     91017\n",
      "2710      90962\n",
      "27642     90758\n",
      "20849     89946\n",
      "26947     89751\n",
      "9766      89652\n",
      "11793     89446\n",
      "1425      88101\n",
      "10092     87803\n",
      "7548      87688\n",
      "Name: prep_time_seconds, dtype: int64\n"
     ]
    }
   ],
   "source": [
    "print(\"99th percentile took\", df_orders.prep_time_seconds.quantile(0.99) / 60 / 60, \" hours.\")\n",
    "print(\"Longest delivery took \", df_orders.prep_time_seconds.max() / 60 / 60 / 24, \" days.\")\n",
    "print(df_orders.prep_time_seconds.sort_values(ascending=False)[:25])"
   ]
  },
  {
   "cell_type": "code",
   "execution_count": 80,
   "metadata": {},
   "outputs": [
    {
     "name": "stderr",
     "output_type": "stream",
     "text": [
      "/usr/local/lib/python3.9/site-packages/seaborn/_decorators.py:36: FutureWarning: Pass the following variable as a keyword arg: x. From version 0.12, the only valid positional argument will be `data`, and passing other arguments without an explicit keyword will result in an error or misinterpretation.\n",
      "  warnings.warn(\n"
     ]
    },
    {
     "data": {
      "image/png": "[encoded data removed]",
      "text/plain": [
       "<Figure size 432x288 with 1 Axes>"
      ]
     },
     "metadata": {
      "needs_background": "light"
     },
     "output_type": "display_data"
    },
    {
     "name": "stdout",
     "output_type": "stream",
     "text": [
      "Total Outliers Removed:  152\n"
     ]
    }
   ],
   "source": [
    "plt.figure(figsize=(6,4))\n",
    "sns.boxplot(df_orders['prep_time_seconds'])\n",
    "plt.show()\n",
    "\n",
    "len_before = len(df_orders)\n",
    "df_orders = df_orders[(np.abs(stats.zscore(df_orders[\"prep_time_seconds\"])) < 3)]\n",
    "print(\"Total Outliers Removed: \", len_before - len(df_orders))"
   ]
  },
  {
   "cell_type": "code",
   "execution_count": 81,
   "metadata": {},
   "outputs": [],
   "source": [
    "# plt.figure(figsize=(6,4))\n",
    "# sns.boxplot(df_orders['order_value_gbp'])\n",
    "# plt.show()\n",
    "\n",
    "# len_before = len(df_orders)\n",
    "# df_orders = df_orders[(np.abs(stats.zscore(df_orders[\"order_value_gbp\"])) < 3)]\n",
    "# print(\"Total Outliers Removed: \", len_before - len(df_orders))"
   ]
  },
  {
   "cell_type": "code",
   "execution_count": 82,
   "metadata": {},
   "outputs": [],
   "source": [
    "# plt.figure(figsize=(6,4))\n",
    "# sns.boxplot(df_orders['number_of_items'])\n",
    "# plt.show()\n",
    "\n",
    "# len_before = len(df_orders)\n",
    "# df_orders = df_orders[(np.abs(stats.zscore(df_orders[\"number_of_items\"])) < 3)]\n",
    "# print(\"Total Outliers Removed: \", len_before - len(df_orders))"
   ]
  },
  {
   "cell_type": "markdown",
   "metadata": {},
   "source": [
    "### *df_restaurants.country*"
   ]
  },
  {
   "cell_type": "code",
   "execution_count": 83,
   "metadata": {},
   "outputs": [
    {
     "data": {
      "text/plain": [
       "array(['UK', 'France', 'Ireland', 'Germany'], dtype=object)"
      ]
     },
     "execution_count": 83,
     "metadata": {},
     "output_type": "execute_result"
    }
   ],
   "source": [
    "df_restaurants.country.unique()"
   ]
  },
  {
   "cell_type": "code",
   "execution_count": 84,
   "metadata": {},
   "outputs": [],
   "source": [
    "df_restaurants = df_restaurants.drop(columns=[\"country\"])"
   ]
  },
  {
   "cell_type": "markdown",
   "metadata": {},
   "source": [
    "### *df_restaurants.city*"
   ]
  },
  {
   "cell_type": "code",
   "execution_count": 85,
   "metadata": {},
   "outputs": [
    {
     "data": {
      "text/plain": [
       "array(['London', 'Paris', 'Brighton', 'Manchester', 'Oxford', 'Cambridge',\n",
       "       'Reading', 'Birmingham', 'Bristol', 'Dublin', 'Berlin',\n",
       "       'Nottingham', 'Liverpool', 'Leeds', 'Edinburgh', 'Glasgow',\n",
       "       'Guildford', 'München', 'Cheltenham', 'Leicester', 'Cardiff',\n",
       "       'Southampton'], dtype=object)"
      ]
     },
     "execution_count": 85,
     "metadata": {},
     "output_type": "execute_result"
    }
   ],
   "source": [
    "df_restaurants.city.unique()"
   ]
  },
  {
   "cell_type": "markdown",
   "metadata": {},
   "source": [
    "Here we can see only 1 city corresponding to Ireland, 2 cities corresponding to Germany and 1 city corresponding to France. \n",
    "This indicates that the country flag may not be very useful. It will also lead to city and country being correlated. \n",
    "For these reasons country will likely be dropped."
   ]
  },
  {
   "cell_type": "markdown",
   "metadata": {},
   "source": [
    "### *df_restaurants.type_of_food*"
   ]
  },
  {
   "cell_type": "code",
   "execution_count": 86,
   "metadata": {},
   "outputs": [
    {
     "name": "stdout",
     "output_type": "stream",
     "text": [
      "['thai' 'italian' 'chinese' 'korean' 'lebanese' 'greek' 'japanese'\n",
      " 'indian' 'mediterranean' 'american' 'burgers' 'healthy' 'vietnamese'\n",
      " 'persian' 'burritos' 'argentinian' 'rotisserie' 'spanish tapas' 'dessert'\n",
      " 'sichuan chinese' 'lebanese moroccan' 'sandwiches' 'juices' 'georgian'\n",
      " 'pan asian' 'south indian' 'german' 'british' 'chicken' 'delicatessen'\n",
      " 'european' 'austrian' 'peruvian' 'turkish' 'pizza' 'fish and chips'\n",
      " 'mexican' 'australian' 'spanish' 'vegan' 'creole' 'ethiopian'\n",
      " 'latin american' 'modern british' 'caribbean' 'bbq' 'ramen' 'soup'\n",
      " 'international' 'portuguese' 'middle eastern' 'japanese peruvian'\n",
      " 'bakery' 'brazilian' 'asian fusion' 'sweet treats' 'deli' 'french'\n",
      " 'south african' 'south american' 'indonesian' 'bagels' 'malaysian'\n",
      " 'nepalese' 'diner' 'north african' 'creperie' 'irish' 'gluten free'\n",
      " 'bistro' 'french lebanese' 'sushi' 'sans gluten / brunch' 'thaï / brunch'\n",
      " 'american / brunch' 'kosher' 'russian' 'taiwanese' 'seafood'\n",
      " 'scandinavian' 'scottish' 'steakhouse' 'ice cream']\n"
     ]
    }
   ],
   "source": [
    "print(df_restaurants.type_of_food.unique())"
   ]
  },
  {
   "cell_type": "code",
   "execution_count": 87,
   "metadata": {},
   "outputs": [
    {
     "name": "stdout",
     "output_type": "stream",
     "text": [
      "ramen                   2\n",
      "creole                  2\n",
      "spanish tapas           2\n",
      "sichuan chinese         2\n",
      "bistro                  2\n",
      "thaï / brunch           1\n",
      "kosher                  1\n",
      "taiwanese               1\n",
      "scandinavian            1\n",
      "sans gluten / brunch    1\n",
      "scottish                1\n",
      "steakhouse              1\n",
      "ethiopian               1\n",
      "french lebanese         1\n",
      "diner                   1\n",
      "south american          1\n",
      "south african           1\n",
      "sweet treats            1\n",
      "asian fusion            1\n",
      "japanese peruvian       1\n",
      "portuguese              1\n",
      "soup                    1\n",
      "austrian                1\n",
      "delicatessen            1\n",
      "ice cream               1\n",
      "Name: type_of_food, dtype: int64\n"
     ]
    }
   ],
   "source": [
    "print(df_restaurants.type_of_food.value_counts().tail(25))"
   ]
  },
  {
   "cell_type": "code",
   "execution_count": 88,
   "metadata": {},
   "outputs": [],
   "source": [
    "df_restaurants.type_of_food = df_restaurants.type_of_food.replace(\"ice cream\", \"dessert\")\n",
    "df_restaurants.type_of_food = df_restaurants.type_of_food.replace(\"delicatessen\", \"deli\")\n",
    "df_restaurants.type_of_food = df_restaurants.type_of_food.replace(\"soup\", \"international\")\n",
    "df_restaurants.type_of_food = df_restaurants.type_of_food.replace(\"portuguese\", \"international\")\n",
    "df_restaurants.type_of_food = df_restaurants.type_of_food.replace(\"japanese peruvian\", \"japanese\")\n",
    "df_restaurants.type_of_food = df_restaurants.type_of_food.replace(\"asian fusion\", \"pan asian\")\n",
    "df_restaurants.type_of_food = df_restaurants.type_of_food.replace(\"sweet treats\", \"dessert\")\n",
    "df_restaurants.type_of_food = df_restaurants.type_of_food.replace(\"south african\", \"international\")\n",
    "df_restaurants.type_of_food = df_restaurants.type_of_food.replace(\"south american\", \"peruvian\")\n",
    "df_restaurants.type_of_food = df_restaurants.type_of_food.replace(\"diner\", \"bistro\")\n",
    "df_restaurants.type_of_food = df_restaurants.type_of_food.replace(\"french lebanese\", \"lebanese\")\n",
    "df_restaurants.type_of_food = df_restaurants.type_of_food.replace(\"ethiopian\", \"international\")\n",
    "df_restaurants.type_of_food = df_restaurants.type_of_food.replace(\"steakhouse\", \"international\")\n",
    "df_restaurants.type_of_food = df_restaurants.type_of_food.replace(\"scottish\", \"european\")\n",
    "df_restaurants.type_of_food = df_restaurants.type_of_food.replace(\"sans gluten / brunch\", \"gluten free\")\n",
    "df_restaurants.type_of_food = df_restaurants.type_of_food.replace(\"scandinavian\", \"european\")\n",
    "df_restaurants.type_of_food = df_restaurants.type_of_food.replace(\"taiwanese\", \"chinese\")\n",
    "df_restaurants.type_of_food = df_restaurants.type_of_food.replace(\"kosher\", \"middle eastern\")\n",
    "df_restaurants.type_of_food = df_restaurants.type_of_food.replace(\"thaï / brunch\", \"thai\")\n",
    "df_restaurants.type_of_food = df_restaurants.type_of_food.replace(\"sichuan chinese\", \"chinese\")\n",
    "df_restaurants.type_of_food = df_restaurants.type_of_food.replace(\"spanish tapas\", \"mexican\")\n",
    "df_restaurants.type_of_food = df_restaurants.type_of_food.replace(\"creole\", \"international\")\n",
    "df_restaurants.type_of_food = df_restaurants.type_of_food.replace(\"ramen\", \"pan asian\")\n",
    "df_restaurants.type_of_food = df_restaurants.type_of_food.replace(\"malaysian\", \"indonesian\")\n",
    "df_restaurants.type_of_food = df_restaurants.type_of_food.replace(\"austrian\", \"european\")\n",
    "df_restaurants.type_of_food = df_restaurants.type_of_food.replace(\"creperie\", \"dessert\")\n",
    "df_restaurants.type_of_food = df_restaurants.type_of_food.replace(\"lebanese moroccan\", \"lebanese\")\n",
    "df_restaurants.type_of_food = df_restaurants.type_of_food.replace(\"modern british\", \"british\")\n",
    "df_restaurants.type_of_food = df_restaurants.type_of_food.replace(\"american / brunch\", \"american\")\n",
    "df_restaurants.type_of_food = df_restaurants.type_of_food.replace(\"south indian\", \"indian\")\n"
   ]
  },
  {
   "cell_type": "markdown",
   "metadata": {},
   "source": [
    "This column will need to be revisited once dataframes are merged to see if there are any food types which have few individual orders."
   ]
  },
  {
   "cell_type": "markdown",
   "metadata": {},
   "source": [
    "### *Correlation*"
   ]
  },
  {
   "cell_type": "code",
   "execution_count": 89,
   "metadata": {},
   "outputs": [
    {
     "data": {
      "text/html": [
       "<div>\n",
       "<style scoped>\n",
       "    .dataframe tbody tr th:only-of-type {\n",
       "        vertical-align: middle;\n",
       "    }\n",
       "\n",
       "    .dataframe tbody tr th {\n",
       "        vertical-align: top;\n",
       "    }\n",
       "\n",
       "    .dataframe thead th {\n",
       "        text-align: right;\n",
       "    }\n",
       "</style>\n",
       "<table border=\"1\" class=\"dataframe\">\n",
       "  <thead>\n",
       "    <tr style=\"text-align: right;\">\n",
       "      <th></th>\n",
       "      <th>order_value_gbp</th>\n",
       "      <th>restaurant_id</th>\n",
       "      <th>number_of_items</th>\n",
       "      <th>prep_time_seconds</th>\n",
       "    </tr>\n",
       "  </thead>\n",
       "  <tbody>\n",
       "    <tr>\n",
       "      <th>order_value_gbp</th>\n",
       "      <td>1.000000</td>\n",
       "      <td>-0.064760</td>\n",
       "      <td>0.553003</td>\n",
       "      <td>0.220560</td>\n",
       "    </tr>\n",
       "    <tr>\n",
       "      <th>restaurant_id</th>\n",
       "      <td>-0.064760</td>\n",
       "      <td>1.000000</td>\n",
       "      <td>-0.043060</td>\n",
       "      <td>-0.017683</td>\n",
       "    </tr>\n",
       "    <tr>\n",
       "      <th>number_of_items</th>\n",
       "      <td>0.553003</td>\n",
       "      <td>-0.043060</td>\n",
       "      <td>1.000000</td>\n",
       "      <td>0.142330</td>\n",
       "    </tr>\n",
       "    <tr>\n",
       "      <th>prep_time_seconds</th>\n",
       "      <td>0.220560</td>\n",
       "      <td>-0.017683</td>\n",
       "      <td>0.142330</td>\n",
       "      <td>1.000000</td>\n",
       "    </tr>\n",
       "  </tbody>\n",
       "</table>\n",
       "</div>"
      ],
      "text/plain": [
       "                   order_value_gbp  restaurant_id  number_of_items  \\\n",
       "order_value_gbp           1.000000      -0.064760         0.553003   \n",
       "restaurant_id            -0.064760       1.000000        -0.043060   \n",
       "number_of_items           0.553003      -0.043060         1.000000   \n",
       "prep_time_seconds         0.220560      -0.017683         0.142330   \n",
       "\n",
       "                   prep_time_seconds  \n",
       "order_value_gbp             0.220560  \n",
       "restaurant_id              -0.017683  \n",
       "number_of_items             0.142330  \n",
       "prep_time_seconds           1.000000  "
      ]
     },
     "execution_count": 89,
     "metadata": {},
     "output_type": "execute_result"
    }
   ],
   "source": [
    "df_orders.corr()"
   ]
  },
  {
   "cell_type": "markdown",
   "metadata": {},
   "source": [
    "Above we can see that *order value* and *number of items* are **moderately** correlated. This is not definitavely a problem, however, it may be useful to create one feature which captures the information of both columns or drop one of the columns completely. I would be tentitive to drop either column as I feel both capture valuable information."
   ]
  },
  {
   "cell_type": "markdown",
   "metadata": {},
   "source": [
    "### Merge Data"
   ]
  },
  {
   "cell_type": "code",
   "execution_count": 90,
   "metadata": {},
   "outputs": [
    {
     "data": {
      "text/html": [
       "<div>\n",
       "<style scoped>\n",
       "    .dataframe tbody tr th:only-of-type {\n",
       "        vertical-align: middle;\n",
       "    }\n",
       "\n",
       "    .dataframe tbody tr th {\n",
       "        vertical-align: top;\n",
       "    }\n",
       "\n",
       "    .dataframe thead th {\n",
       "        text-align: right;\n",
       "    }\n",
       "</style>\n",
       "<table border=\"1\" class=\"dataframe\">\n",
       "  <thead>\n",
       "    <tr style=\"text-align: right;\">\n",
       "      <th></th>\n",
       "      <th>order_acknowledged_at</th>\n",
       "      <th>order_value_gbp</th>\n",
       "      <th>restaurant_id</th>\n",
       "      <th>number_of_items</th>\n",
       "      <th>prep_time_seconds</th>\n",
       "    </tr>\n",
       "  </thead>\n",
       "  <tbody>\n",
       "    <tr>\n",
       "      <th>0</th>\n",
       "      <td>2015-06-01 12:28:28.952789+01:00</td>\n",
       "      <td>59.90000</td>\n",
       "      <td>1326</td>\n",
       "      <td>2</td>\n",
       "      <td>6220</td>\n",
       "    </tr>\n",
       "    <tr>\n",
       "      <th>1</th>\n",
       "      <td>2015-06-06 17:06:24.434807+01:00</td>\n",
       "      <td>24.00000</td>\n",
       "      <td>1326</td>\n",
       "      <td>8</td>\n",
       "      <td>603</td>\n",
       "    </tr>\n",
       "    <tr>\n",
       "      <th>2</th>\n",
       "      <td>2015-06-08 14:56:15.503204+01:00</td>\n",
       "      <td>15.25000</td>\n",
       "      <td>1326</td>\n",
       "      <td>3</td>\n",
       "      <td>443</td>\n",
       "    </tr>\n",
       "    <tr>\n",
       "      <th>3</th>\n",
       "      <td>2015-06-12 15:12:20.497925+01:00</td>\n",
       "      <td>28.05000</td>\n",
       "      <td>1326</td>\n",
       "      <td>8</td>\n",
       "      <td>669</td>\n",
       "    </tr>\n",
       "    <tr>\n",
       "      <th>4</th>\n",
       "      <td>2015-06-01 13:07:10.794050+01:00</td>\n",
       "      <td>56.30000</td>\n",
       "      <td>255</td>\n",
       "      <td>7</td>\n",
       "      <td>3314</td>\n",
       "    </tr>\n",
       "    <tr>\n",
       "      <th>...</th>\n",
       "      <td>...</td>\n",
       "      <td>...</td>\n",
       "      <td>...</td>\n",
       "      <td>...</td>\n",
       "      <td>...</td>\n",
       "    </tr>\n",
       "    <tr>\n",
       "      <th>32389</th>\n",
       "      <td>2015-06-30 21:00:29.131078+01:00</td>\n",
       "      <td>35.15000</td>\n",
       "      <td>3185</td>\n",
       "      <td>4</td>\n",
       "      <td>913</td>\n",
       "    </tr>\n",
       "    <tr>\n",
       "      <th>32390</th>\n",
       "      <td>2015-06-30 22:30:51.123180+02:00</td>\n",
       "      <td>9.15771</td>\n",
       "      <td>3556</td>\n",
       "      <td>3</td>\n",
       "      <td>201</td>\n",
       "    </tr>\n",
       "    <tr>\n",
       "      <th>32391</th>\n",
       "      <td>2015-06-30 21:50:11.585362+01:00</td>\n",
       "      <td>18.20000</td>\n",
       "      <td>3517</td>\n",
       "      <td>3</td>\n",
       "      <td>863</td>\n",
       "    </tr>\n",
       "    <tr>\n",
       "      <th>32392</th>\n",
       "      <td>2015-06-30 22:17:55.778938+01:00</td>\n",
       "      <td>21.50000</td>\n",
       "      <td>1705</td>\n",
       "      <td>3</td>\n",
       "      <td>1339</td>\n",
       "    </tr>\n",
       "    <tr>\n",
       "      <th>32393</th>\n",
       "      <td>2015-06-30 22:55:39.128579+01:00</td>\n",
       "      <td>15.90000</td>\n",
       "      <td>2274</td>\n",
       "      <td>3</td>\n",
       "      <td>1385</td>\n",
       "    </tr>\n",
       "  </tbody>\n",
       "</table>\n",
       "<p>32242 rows × 5 columns</p>\n",
       "</div>"
      ],
      "text/plain": [
       "                  order_acknowledged_at  order_value_gbp  restaurant_id  \\\n",
       "0      2015-06-01 12:28:28.952789+01:00         59.90000           1326   \n",
       "1      2015-06-06 17:06:24.434807+01:00         24.00000           1326   \n",
       "2      2015-06-08 14:56:15.503204+01:00         15.25000           1326   \n",
       "3      2015-06-12 15:12:20.497925+01:00         28.05000           1326   \n",
       "4      2015-06-01 13:07:10.794050+01:00         56.30000            255   \n",
       "...                                 ...              ...            ...   \n",
       "32389  2015-06-30 21:00:29.131078+01:00         35.15000           3185   \n",
       "32390  2015-06-30 22:30:51.123180+02:00          9.15771           3556   \n",
       "32391  2015-06-30 21:50:11.585362+01:00         18.20000           3517   \n",
       "32392  2015-06-30 22:17:55.778938+01:00         21.50000           1705   \n",
       "32393  2015-06-30 22:55:39.128579+01:00         15.90000           2274   \n",
       "\n",
       "       number_of_items  prep_time_seconds  \n",
       "0                    2               6220  \n",
       "1                    8                603  \n",
       "2                    3                443  \n",
       "3                    8                669  \n",
       "4                    7               3314  \n",
       "...                ...                ...  \n",
       "32389                4                913  \n",
       "32390                3                201  \n",
       "32391                3                863  \n",
       "32392                3               1339  \n",
       "32393                3               1385  \n",
       "\n",
       "[32242 rows x 5 columns]"
      ]
     },
     "execution_count": 90,
     "metadata": {},
     "output_type": "execute_result"
    }
   ],
   "source": [
    "df_orders"
   ]
  },
  {
   "cell_type": "code",
   "execution_count": 91,
   "metadata": {},
   "outputs": [
    {
     "data": {
      "text/html": [
       "<div>\n",
       "<style scoped>\n",
       "    .dataframe tbody tr th:only-of-type {\n",
       "        vertical-align: middle;\n",
       "    }\n",
       "\n",
       "    .dataframe tbody tr th {\n",
       "        vertical-align: top;\n",
       "    }\n",
       "\n",
       "    .dataframe thead th {\n",
       "        text-align: right;\n",
       "    }\n",
       "</style>\n",
       "<table border=\"1\" class=\"dataframe\">\n",
       "  <thead>\n",
       "    <tr style=\"text-align: right;\">\n",
       "      <th></th>\n",
       "      <th>restaurant_id</th>\n",
       "      <th>city</th>\n",
       "      <th>type_of_food</th>\n",
       "    </tr>\n",
       "  </thead>\n",
       "  <tbody>\n",
       "    <tr>\n",
       "      <th>0</th>\n",
       "      <td>3</td>\n",
       "      <td>London</td>\n",
       "      <td>thai</td>\n",
       "    </tr>\n",
       "    <tr>\n",
       "      <th>1</th>\n",
       "      <td>5</td>\n",
       "      <td>London</td>\n",
       "      <td>italian</td>\n",
       "    </tr>\n",
       "    <tr>\n",
       "      <th>2</th>\n",
       "      <td>7</td>\n",
       "      <td>London</td>\n",
       "      <td>italian</td>\n",
       "    </tr>\n",
       "    <tr>\n",
       "      <th>3</th>\n",
       "      <td>8</td>\n",
       "      <td>London</td>\n",
       "      <td>chinese</td>\n",
       "    </tr>\n",
       "    <tr>\n",
       "      <th>4</th>\n",
       "      <td>9</td>\n",
       "      <td>Paris</td>\n",
       "      <td>korean</td>\n",
       "    </tr>\n",
       "    <tr>\n",
       "      <th>...</th>\n",
       "      <td>...</td>\n",
       "      <td>...</td>\n",
       "      <td>...</td>\n",
       "    </tr>\n",
       "    <tr>\n",
       "      <th>1692</th>\n",
       "      <td>3594</td>\n",
       "      <td>Leeds</td>\n",
       "      <td>sushi</td>\n",
       "    </tr>\n",
       "    <tr>\n",
       "      <th>1693</th>\n",
       "      <td>3614</td>\n",
       "      <td>Paris</td>\n",
       "      <td>indonesian</td>\n",
       "    </tr>\n",
       "    <tr>\n",
       "      <th>1694</th>\n",
       "      <td>3618</td>\n",
       "      <td>Dublin</td>\n",
       "      <td>pan asian</td>\n",
       "    </tr>\n",
       "    <tr>\n",
       "      <th>1695</th>\n",
       "      <td>3620</td>\n",
       "      <td>Southampton</td>\n",
       "      <td>burritos</td>\n",
       "    </tr>\n",
       "    <tr>\n",
       "      <th>1696</th>\n",
       "      <td>3622</td>\n",
       "      <td>Manchester</td>\n",
       "      <td>caribbean</td>\n",
       "    </tr>\n",
       "  </tbody>\n",
       "</table>\n",
       "<p>1697 rows × 3 columns</p>\n",
       "</div>"
      ],
      "text/plain": [
       "      restaurant_id         city type_of_food\n",
       "0                 3       London         thai\n",
       "1                 5       London      italian\n",
       "2                 7       London      italian\n",
       "3                 8       London      chinese\n",
       "4                 9        Paris       korean\n",
       "...             ...          ...          ...\n",
       "1692           3594        Leeds        sushi\n",
       "1693           3614        Paris   indonesian\n",
       "1694           3618       Dublin    pan asian\n",
       "1695           3620  Southampton     burritos\n",
       "1696           3622   Manchester    caribbean\n",
       "\n",
       "[1697 rows x 3 columns]"
      ]
     },
     "execution_count": 91,
     "metadata": {},
     "output_type": "execute_result"
    }
   ],
   "source": [
    "df_restaurants"
   ]
  },
  {
   "cell_type": "code",
   "execution_count": 92,
   "metadata": {},
   "outputs": [
    {
     "data": {
      "text/html": [
       "<div>\n",
       "<style scoped>\n",
       "    .dataframe tbody tr th:only-of-type {\n",
       "        vertical-align: middle;\n",
       "    }\n",
       "\n",
       "    .dataframe tbody tr th {\n",
       "        vertical-align: top;\n",
       "    }\n",
       "\n",
       "    .dataframe thead th {\n",
       "        text-align: right;\n",
       "    }\n",
       "</style>\n",
       "<table border=\"1\" class=\"dataframe\">\n",
       "  <thead>\n",
       "    <tr style=\"text-align: right;\">\n",
       "      <th></th>\n",
       "      <th>order_acknowledged_at</th>\n",
       "      <th>order_value_gbp</th>\n",
       "      <th>restaurant_id</th>\n",
       "      <th>number_of_items</th>\n",
       "      <th>prep_time_seconds</th>\n",
       "      <th>city</th>\n",
       "      <th>type_of_food</th>\n",
       "    </tr>\n",
       "  </thead>\n",
       "  <tbody>\n",
       "    <tr>\n",
       "      <th>0</th>\n",
       "      <td>2015-06-01 12:28:28.952789+01:00</td>\n",
       "      <td>59.90000</td>\n",
       "      <td>1326</td>\n",
       "      <td>2</td>\n",
       "      <td>6220</td>\n",
       "      <td>London</td>\n",
       "      <td>burritos</td>\n",
       "    </tr>\n",
       "    <tr>\n",
       "      <th>1</th>\n",
       "      <td>2015-06-06 17:06:24.434807+01:00</td>\n",
       "      <td>24.00000</td>\n",
       "      <td>1326</td>\n",
       "      <td>8</td>\n",
       "      <td>603</td>\n",
       "      <td>London</td>\n",
       "      <td>burritos</td>\n",
       "    </tr>\n",
       "    <tr>\n",
       "      <th>2</th>\n",
       "      <td>2015-06-08 14:56:15.503204+01:00</td>\n",
       "      <td>15.25000</td>\n",
       "      <td>1326</td>\n",
       "      <td>3</td>\n",
       "      <td>443</td>\n",
       "      <td>London</td>\n",
       "      <td>burritos</td>\n",
       "    </tr>\n",
       "    <tr>\n",
       "      <th>3</th>\n",
       "      <td>2015-06-12 15:12:20.497925+01:00</td>\n",
       "      <td>28.05000</td>\n",
       "      <td>1326</td>\n",
       "      <td>8</td>\n",
       "      <td>669</td>\n",
       "      <td>London</td>\n",
       "      <td>burritos</td>\n",
       "    </tr>\n",
       "    <tr>\n",
       "      <th>4</th>\n",
       "      <td>2015-06-01 13:07:10.794050+01:00</td>\n",
       "      <td>56.30000</td>\n",
       "      <td>255</td>\n",
       "      <td>7</td>\n",
       "      <td>3314</td>\n",
       "      <td>London</td>\n",
       "      <td>chinese</td>\n",
       "    </tr>\n",
       "    <tr>\n",
       "      <th>...</th>\n",
       "      <td>...</td>\n",
       "      <td>...</td>\n",
       "      <td>...</td>\n",
       "      <td>...</td>\n",
       "      <td>...</td>\n",
       "      <td>...</td>\n",
       "      <td>...</td>\n",
       "    </tr>\n",
       "    <tr>\n",
       "      <th>32237</th>\n",
       "      <td>2015-06-30 21:00:29.131078+01:00</td>\n",
       "      <td>35.15000</td>\n",
       "      <td>3185</td>\n",
       "      <td>4</td>\n",
       "      <td>913</td>\n",
       "      <td>Glasgow</td>\n",
       "      <td>italian</td>\n",
       "    </tr>\n",
       "    <tr>\n",
       "      <th>32238</th>\n",
       "      <td>2015-06-30 22:30:51.123180+02:00</td>\n",
       "      <td>9.15771</td>\n",
       "      <td>3556</td>\n",
       "      <td>3</td>\n",
       "      <td>201</td>\n",
       "      <td>Berlin</td>\n",
       "      <td>vietnamese</td>\n",
       "    </tr>\n",
       "    <tr>\n",
       "      <th>32239</th>\n",
       "      <td>2015-06-30 21:50:11.585362+01:00</td>\n",
       "      <td>18.20000</td>\n",
       "      <td>3517</td>\n",
       "      <td>3</td>\n",
       "      <td>863</td>\n",
       "      <td>Cheltenham</td>\n",
       "      <td>indian</td>\n",
       "    </tr>\n",
       "    <tr>\n",
       "      <th>32240</th>\n",
       "      <td>2015-06-30 22:17:55.778938+01:00</td>\n",
       "      <td>21.50000</td>\n",
       "      <td>1705</td>\n",
       "      <td>3</td>\n",
       "      <td>1339</td>\n",
       "      <td>London</td>\n",
       "      <td>italian</td>\n",
       "    </tr>\n",
       "    <tr>\n",
       "      <th>32241</th>\n",
       "      <td>2015-06-30 22:55:39.128579+01:00</td>\n",
       "      <td>15.90000</td>\n",
       "      <td>2274</td>\n",
       "      <td>3</td>\n",
       "      <td>1385</td>\n",
       "      <td>Birmingham</td>\n",
       "      <td>caribbean</td>\n",
       "    </tr>\n",
       "  </tbody>\n",
       "</table>\n",
       "<p>32242 rows × 7 columns</p>\n",
       "</div>"
      ],
      "text/plain": [
       "                  order_acknowledged_at  order_value_gbp  restaurant_id  \\\n",
       "0      2015-06-01 12:28:28.952789+01:00         59.90000           1326   \n",
       "1      2015-06-06 17:06:24.434807+01:00         24.00000           1326   \n",
       "2      2015-06-08 14:56:15.503204+01:00         15.25000           1326   \n",
       "3      2015-06-12 15:12:20.497925+01:00         28.05000           1326   \n",
       "4      2015-06-01 13:07:10.794050+01:00         56.30000            255   \n",
       "...                                 ...              ...            ...   \n",
       "32237  2015-06-30 21:00:29.131078+01:00         35.15000           3185   \n",
       "32238  2015-06-30 22:30:51.123180+02:00          9.15771           3556   \n",
       "32239  2015-06-30 21:50:11.585362+01:00         18.20000           3517   \n",
       "32240  2015-06-30 22:17:55.778938+01:00         21.50000           1705   \n",
       "32241  2015-06-30 22:55:39.128579+01:00         15.90000           2274   \n",
       "\n",
       "       number_of_items  prep_time_seconds        city type_of_food  \n",
       "0                    2               6220      London     burritos  \n",
       "1                    8                603      London     burritos  \n",
       "2                    3                443      London     burritos  \n",
       "3                    8                669      London     burritos  \n",
       "4                    7               3314      London      chinese  \n",
       "...                ...                ...         ...          ...  \n",
       "32237                4                913     Glasgow      italian  \n",
       "32238                3                201      Berlin   vietnamese  \n",
       "32239                3                863  Cheltenham       indian  \n",
       "32240                3               1339      London      italian  \n",
       "32241                3               1385  Birmingham    caribbean  \n",
       "\n",
       "[32242 rows x 7 columns]"
      ]
     },
     "execution_count": 92,
     "metadata": {},
     "output_type": "execute_result"
    }
   ],
   "source": [
    "df_train = df_orders.merge(df_restaurants)\n",
    "df_train"
   ]
  },
  {
   "cell_type": "code",
   "execution_count": 93,
   "metadata": {},
   "outputs": [
    {
     "data": {
      "text/plain": [
       "middle eastern    167\n",
       "international     147\n",
       "peruvian          131\n",
       "australian        108\n",
       "spanish           101\n",
       "seafood            90\n",
       "brazilian          87\n",
       "latin american     75\n",
       "bakery             67\n",
       "juices             62\n",
       "rotisserie         55\n",
       "sushi              45\n",
       "caribbean          44\n",
       "indonesian         38\n",
       "sandwiches         37\n",
       "vegan              30\n",
       "german             30\n",
       "nepalese           26\n",
       "north african      25\n",
       "bistro             24\n",
       "georgian           19\n",
       "gluten free        18\n",
       "bagels             15\n",
       "russian            12\n",
       "irish               9\n",
       "Name: type_of_food, dtype: int64"
      ]
     },
     "execution_count": 93,
     "metadata": {},
     "output_type": "execute_result"
    }
   ],
   "source": [
    "df_train.type_of_food.value_counts().tail(25)"
   ]
  },
  {
   "cell_type": "code",
   "execution_count": 94,
   "metadata": {},
   "outputs": [],
   "source": [
    "df_train.type_of_food = df_train.type_of_food.replace(\"irish\", \"european\")\n",
    "df_train.type_of_food = df_train.type_of_food.replace(\"russian\", \"international\")\n",
    "df_train.type_of_food = df_train.type_of_food.replace(\"bagels\", \"deli\")\n",
    "df_train.type_of_food = df_train.type_of_food.replace(\"sandwiches\", \"deli\")\n",
    "df_train.type_of_food = df_train.type_of_food.replace(\"gluten free\", \"healthy\")\n",
    "df_train.type_of_food = df_train.type_of_food.replace(\"georgian\", \"international\")\n",
    "df_train.type_of_food = df_train.type_of_food.replace(\"bistro\", \"international\")\n",
    "df_train.type_of_food = df_train.type_of_food.replace(\"north african\", \"middle eastern\")\n",
    "df_train.type_of_food = df_train.type_of_food.replace(\"nepalese\", \"indian\")\n",
    "df_train.type_of_food = df_train.type_of_food.replace(\"german\", \"european\")\n",
    "df_train.type_of_food = df_train.type_of_food.replace(\"vegan\", \"healthy\")\n",
    "df_train.type_of_food = df_train.type_of_food.replace(\"indonesian\", \"thai\")\n",
    "df_train.type_of_food = df_train.type_of_food.replace(\"sushi\", \"seafood\")\n",
    "df_train.type_of_food = df_train.type_of_food.replace(\"latin american\", \"mexican\")\n",
    "df_train.type_of_food = df_train.type_of_food.replace(\"rotisserie\", \"chicken\")\n",
    "df_train.type_of_food = df_train.type_of_food.replace(\"brazilian\", \"south american\")\n",
    "df_train.type_of_food = df_train.type_of_food.replace(\"peruvian\", \"south american\")\n",
    "df_train.type_of_food = df_train.type_of_food.replace(\"caribbean\", \"international\")\n"
   ]
  },
  {
   "cell_type": "code",
   "execution_count": 95,
   "metadata": {},
   "outputs": [],
   "source": [
    "df_train.to_csv(\"data/clean_data.csv\", index=False)"
   ]
  },
  {
   "cell_type": "code",
   "execution_count": null,
   "metadata": {},
   "outputs": [],
   "source": []
  }
 ],
 "metadata": {
  "kernelspec": {
   "display_name": "Python 3.9.13 64-bit",
   "language": "python",
   "name": "python3"
  },
  "language_info": {
   "codemirror_mode": {
    "name": "ipython",
    "version": 3
   },
   "file_extension": ".py",
   "mimetype": "text/x-python",
   "name": "python",
   "nbconvert_exporter": "python",
   "pygments_lexer": "ipython3",
   "version": "3.9.13"
  },
  "orig_nbformat": 4,
  "vscode": {
   "interpreter": {
    "hash": "aee8b7b246df8f9039afb4144a1f6fd8d2ca17a180786b69acc140d282b71a49"
   }
  }
 },
 "nbformat": 4,
 "nbformat_minor": 2
}
