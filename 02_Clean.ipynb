{
 "cells": [
  {
   "cell_type": "markdown",
   "metadata": {},
   "source": [
    "# **Clean**"
   ]
  },
  {
   "cell_type": "code",
   "execution_count": 180,
   "metadata": {},
   "outputs": [],
   "source": [
    "import pandas as pd"
   ]
  },
  {
   "cell_type": "markdown",
   "metadata": {},
   "source": [
    "## Read Data"
   ]
  },
  {
   "cell_type": "code",
   "execution_count": 181,
   "metadata": {},
   "outputs": [],
   "source": [
    "df_orders = pd.read_csv(\"raw/orders.csv\")\n",
    "df_restaurants = pd.read_csv(\"raw/restaurants.csv\")"
   ]
  },
  {
   "cell_type": "markdown",
   "metadata": {},
   "source": [
    "## Cleaning Columns"
   ]
  },
  {
   "cell_type": "code",
   "execution_count": 182,
   "metadata": {},
   "outputs": [
    {
     "name": "stdout",
     "output_type": "stream",
     "text": [
      "Orders Columns: \n",
      " Index(['order_acknowledged_at', 'order_ready_at', 'order_value_gbp',\n",
      "       'restaurant_id', 'number_of_items', 'prep_time_seconds'],\n",
      "      dtype='object')\n",
      "Restaurants Columns: \n",
      " Index(['restaurant_id', 'country', 'city', 'type_of_food'], dtype='object')\n"
     ]
    }
   ],
   "source": [
    "print(\"Orders Columns: \\n\", df_orders.columns)\n",
    "print(\"Restaurants Columns: \\n\", df_restaurants.columns)"
   ]
  },
  {
   "cell_type": "markdown",
   "metadata": {},
   "source": [
    "### *df_orders.order_acknowledged_at*"
   ]
  },
  {
   "cell_type": "code",
   "execution_count": 183,
   "metadata": {},
   "outputs": [
    {
     "data": {
      "text/plain": [
       "0        2015-06-01 12:28:28.952789+01:00\n",
       "1        2015-06-06 17:06:24.434807+01:00\n",
       "2        2015-06-08 14:56:15.503204+01:00\n",
       "3        2015-06-12 15:12:20.497925+01:00\n",
       "4        2015-06-01 13:07:10.794050+01:00\n",
       "                       ...               \n",
       "32389    2015-06-30 21:00:29.131078+01:00\n",
       "32390    2015-06-30 22:30:51.123180+02:00\n",
       "32391    2015-06-30 21:50:11.585362+01:00\n",
       "32392    2015-06-30 22:17:55.778938+01:00\n",
       "32393    2015-06-30 22:55:39.128579+01:00\n",
       "Name: order_acknowledged_at, Length: 32394, dtype: object"
      ]
     },
     "execution_count": 183,
     "metadata": {},
     "output_type": "execute_result"
    }
   ],
   "source": [
    "df_orders.order_acknowledged_at"
   ]
  },
  {
   "cell_type": "markdown",
   "metadata": {},
   "source": [
    "The datetime column can be broken down to year, month, day of the week and hour of the day which may be good predictors."
   ]
  },
  {
   "cell_type": "markdown",
   "metadata": {},
   "source": [
    "### *df_orders.order_ready_at*"
   ]
  },
  {
   "cell_type": "code",
   "execution_count": 185,
   "metadata": {},
   "outputs": [],
   "source": [
    "df_orders = df_orders.drop(columns=[\"order_ready_at\"])"
   ]
  },
  {
   "cell_type": "markdown",
   "metadata": {},
   "source": [
    "This column can not be used as it will not be available when predicting prep time."
   ]
  },
  {
   "cell_type": "markdown",
   "metadata": {},
   "source": [
    "### *df_orders.order_value_gbp*"
   ]
  },
  {
   "cell_type": "code",
   "execution_count": 186,
   "metadata": {},
   "outputs": [
    {
     "data": {
      "text/plain": [
       "15.000000     549\n",
       "15.500000     495\n",
       "16.000000     466\n",
       "17.000000     395\n",
       "18.000000     321\n",
       "             ... \n",
       "76.950000       1\n",
       "139.450000      1\n",
       "232.750000      1\n",
       "83.400000       1\n",
       "29.354365       1\n",
       "Name: order_value_gbp, Length: 2845, dtype: int64"
      ]
     },
     "execution_count": 186,
     "metadata": {},
     "output_type": "execute_result"
    }
   ],
   "source": [
    "df_orders.order_value_gbp.value_counts(dropna=False)"
   ]
  },
  {
   "cell_type": "markdown",
   "metadata": {},
   "source": [
    "### *df_orders.prep_time_seconds*"
   ]
  },
  {
   "cell_type": "code",
   "execution_count": 187,
   "metadata": {},
   "outputs": [
    {
     "name": "stdout",
     "output_type": "stream",
     "text": [
      "99th percentile took 2.120613888888889  hours.\n",
      "Longest delivery took  2.957164351851852  days.\n",
      "9807     255499\n",
      "31228    116038\n",
      "13166    113157\n",
      "31749    111836\n",
      "20760    110198\n",
      "          ...  \n",
      "27102     21798\n",
      "31224     21750\n",
      "18337     21649\n",
      "31323     21279\n",
      "10978     20801\n",
      "Name: prep_time_seconds, Length: 100, dtype: int64\n",
      "<pandas.core.groupby.generic.DataFrameGroupBy object at 0x118590b20>\n"
     ]
    }
   ],
   "source": [
    "print(\"99th percentile took\", df_orders.prep_time_seconds.quantile(0.99) / 60 / 60, \" hours.\")\n",
    "print(\"Longest delivery took \", df_orders.prep_time_seconds.max() / 60 / 60 / 24, \" days.\")\n",
    "print(df_orders.prep_time_seconds.sort_values(ascending=False)[:100])\n",
    "print(df_orders.iloc[:100].groupby(\"restaurant_id\"))"
   ]
  },
  {
   "cell_type": "markdown",
   "metadata": {},
   "source": [
    "Upper bounds of the prep time seems to be irregular. There may some special items such as cakes etc. that take multiple days to prepare. Will leave this for now but may examine filtering the upper quartile later or examining further the restaurants where long prep times are common."
   ]
  },
  {
   "cell_type": "code",
   "execution_count": 188,
   "metadata": {},
   "outputs": [
    {
     "data": {
      "text/plain": [
       "order_acknowledged_at    2015-06-19 14:22:41.266706+01:00\n",
       "order_value_gbp                                      76.8\n",
       "restaurant_id                                         441\n",
       "number_of_items                                         5\n",
       "prep_time_seconds                                  255499\n",
       "Name: 9807, dtype: object"
      ]
     },
     "execution_count": 188,
     "metadata": {},
     "output_type": "execute_result"
    }
   ],
   "source": [
    "# Looking further at the largest outlier\n",
    "df_orders.iloc[9807]"
   ]
  },
  {
   "cell_type": "markdown",
   "metadata": {},
   "source": [
    "### *df_restaurants.country*"
   ]
  },
  {
   "cell_type": "code",
   "execution_count": 189,
   "metadata": {},
   "outputs": [
    {
     "data": {
      "text/plain": [
       "array(['UK', 'France', 'Ireland', 'Germany'], dtype=object)"
      ]
     },
     "execution_count": 189,
     "metadata": {},
     "output_type": "execute_result"
    }
   ],
   "source": [
    "df_restaurants.country.unique()"
   ]
  },
  {
   "cell_type": "markdown",
   "metadata": {},
   "source": [
    "### *df_restaurants.city*"
   ]
  },
  {
   "cell_type": "code",
   "execution_count": 190,
   "metadata": {},
   "outputs": [
    {
     "data": {
      "text/plain": [
       "array(['London', 'Paris', 'Brighton', 'Manchester', 'Oxford', 'Cambridge',\n",
       "       'Reading', 'Birmingham', 'Bristol', 'Dublin', 'Berlin',\n",
       "       'Nottingham', 'Liverpool', 'Leeds', 'Edinburgh', 'Glasgow',\n",
       "       'Guildford', 'München', 'Cheltenham', 'Leicester', 'Cardiff',\n",
       "       'Southampton'], dtype=object)"
      ]
     },
     "execution_count": 190,
     "metadata": {},
     "output_type": "execute_result"
    }
   ],
   "source": [
    "df_restaurants.city.unique()"
   ]
  },
  {
   "cell_type": "code",
   "execution_count": 191,
   "metadata": {},
   "outputs": [
    {
     "data": {
      "text/plain": [
       "0.3989143329851137"
      ]
     },
     "execution_count": 191,
     "metadata": {},
     "output_type": "execute_result"
    }
   ],
   "source": [
    "num_country = pd.Series(pd.factorize(df_restaurants['country'])[0])\n",
    "num_city = pd.Series(pd.factorize(df_restaurants['city'])[0])\n",
    "\n",
    "num_country.corr(num_city)"
   ]
  },
  {
   "cell_type": "markdown",
   "metadata": {},
   "source": [
    "Here we can see only 1 city corresponding to Ireland, 2 cities corresponding to Germany and 1 city corresponding to France. \n",
    "This indicates that the country flag may not be very useful. It will also lead to city and country being correlated. \n",
    "For these reasons country will likely be dropped."
   ]
  },
  {
   "cell_type": "markdown",
   "metadata": {},
   "source": [
    "### *df_restaurants.type_of_food*"
   ]
  },
  {
   "cell_type": "code",
   "execution_count": 177,
   "metadata": {},
   "outputs": [
    {
     "name": "stdout",
     "output_type": "stream",
     "text": [
      "['thai' 'italian' 'chinese' 'korean' 'lebanese' 'greek' 'japanese'\n",
      " 'indian' 'mediterranean' 'american' 'burgers' 'healthy' 'vietnamese'\n",
      " 'persian' 'burritos' 'argentinian' 'rotisserie' 'spanish tapas' 'dessert'\n",
      " 'sichuan chinese' 'lebanese moroccan' 'sandwiches' 'juices' 'georgian'\n",
      " 'pan asian' 'south indian' 'german' 'british' 'chicken' 'delicatessen'\n",
      " 'european' 'austrian' 'peruvian' 'turkish' 'pizza' 'fish and chips'\n",
      " 'mexican' 'australian' 'spanish' 'vegan' 'creole' 'ethiopian'\n",
      " 'latin american' 'modern british' 'caribbean' 'bbq' 'ramen' 'soup'\n",
      " 'international' 'portuguese' 'middle eastern' 'japanese peruvian'\n",
      " 'bakery' 'brazilian' 'asian fusion' 'sweet treats' 'deli' 'french'\n",
      " 'south african' 'south american' 'indonesian' 'bagels' 'malaysian'\n",
      " 'nepalese' 'diner' 'north african' 'creperie' 'irish' 'gluten free'\n",
      " 'bistro' 'french lebanese' 'sushi' 'sans gluten / brunch' 'thaï / brunch'\n",
      " 'american / brunch' 'kosher' 'russian' 'taiwanese' 'seafood'\n",
      " 'scandinavian' 'scottish' 'steakhouse' 'ice cream']\n"
     ]
    }
   ],
   "source": [
    "print(df_restaurants.type_of_food.unique())"
   ]
  },
  {
   "cell_type": "code",
   "execution_count": 203,
   "metadata": {},
   "outputs": [
    {
     "name": "stdout",
     "output_type": "stream",
     "text": [
      "greek             15\n",
      "korean            14\n",
      "turkish           14\n",
      "juices            13\n",
      "bakery            10\n",
      "caribbean          9\n",
      "brazilian          8\n",
      "sushi              8\n",
      "german             7\n",
      "latin american     7\n",
      "north african      6\n",
      "sandwiches         6\n",
      "indonesian         5\n",
      "rotisserie         5\n",
      "vegan              5\n",
      "australian         5\n",
      "peruvian           5\n",
      "gluten free        4\n",
      "seafood            4\n",
      "bagels             3\n",
      "nepalese           3\n",
      "bistro             3\n",
      "irish              3\n",
      "georgian           3\n",
      "russian            3\n",
      "Name: type_of_food, dtype: int64\n"
     ]
    }
   ],
   "source": [
    "print(df_restaurants.type_of_food.value_counts().tail(25))"
   ]
  },
  {
   "cell_type": "code",
   "execution_count": 202,
   "metadata": {},
   "outputs": [],
   "source": [
    "df_restaurants.type_of_food = df_restaurants.type_of_food.replace(\"ice cream\", \"dessert\")\n",
    "df_restaurants.type_of_food = df_restaurants.type_of_food.replace(\"delicatessen\", \"deli\")\n",
    "df_restaurants.type_of_food = df_restaurants.type_of_food.replace(\"soup\", \"international\")\n",
    "df_restaurants.type_of_food = df_restaurants.type_of_food.replace(\"portuguese\", \"international\")\n",
    "df_restaurants.type_of_food = df_restaurants.type_of_food.replace(\"japanese peruvian\", \"japanese\")\n",
    "df_restaurants.type_of_food = df_restaurants.type_of_food.replace(\"asian fusion\", \"pan asian\")\n",
    "df_restaurants.type_of_food = df_restaurants.type_of_food.replace(\"sweet treats\", \"dessert\")\n",
    "df_restaurants.type_of_food = df_restaurants.type_of_food.replace(\"south african\", \"international\")\n",
    "df_restaurants.type_of_food = df_restaurants.type_of_food.replace(\"south american\", \"peruvian\")\n",
    "df_restaurants.type_of_food = df_restaurants.type_of_food.replace(\"diner\", \"bistro\")\n",
    "df_restaurants.type_of_food = df_restaurants.type_of_food.replace(\"french lebanese\", \"lebanese\")\n",
    "df_restaurants.type_of_food = df_restaurants.type_of_food.replace(\"ethiopian\", \"international\")\n",
    "df_restaurants.type_of_food = df_restaurants.type_of_food.replace(\"steakhouse\", \"international\")\n",
    "df_restaurants.type_of_food = df_restaurants.type_of_food.replace(\"scottish\", \"european\")\n",
    "df_restaurants.type_of_food = df_restaurants.type_of_food.replace(\"sans gluten / brunch\", \"gluten free\")\n",
    "df_restaurants.type_of_food = df_restaurants.type_of_food.replace(\"scandinavian\", \"european\")\n",
    "df_restaurants.type_of_food = df_restaurants.type_of_food.replace(\"taiwanese\", \"chinese\")\n",
    "df_restaurants.type_of_food = df_restaurants.type_of_food.replace(\"kosher\", \"middle eastern\")\n",
    "df_restaurants.type_of_food = df_restaurants.type_of_food.replace(\"thaï / brunch\", \"thai\")\n",
    "df_restaurants.type_of_food = df_restaurants.type_of_food.replace(\"sichuan chinese\", \"chinese\")\n",
    "df_restaurants.type_of_food = df_restaurants.type_of_food.replace(\"spanish tapas\", \"mexican\")\n",
    "df_restaurants.type_of_food = df_restaurants.type_of_food.replace(\"creole\", \"international\")\n",
    "df_restaurants.type_of_food = df_restaurants.type_of_food.replace(\"ramen\", \"pan asian\")\n",
    "df_restaurants.type_of_food = df_restaurants.type_of_food.replace(\"malaysian\", \"indonesian\")\n",
    "df_restaurants.type_of_food = df_restaurants.type_of_food.replace(\"austrian\", \"european\")\n",
    "df_restaurants.type_of_food = df_restaurants.type_of_food.replace(\"creperie\", \"dessert\")\n",
    "df_restaurants.type_of_food = df_restaurants.type_of_food.replace(\"lebanese moroccan\", \"lebanese\")\n",
    "df_restaurants.type_of_food = df_restaurants.type_of_food.replace(\"modern british\", \"british\")\n",
    "df_restaurants.type_of_food = df_restaurants.type_of_food.replace(\"american / brunch\", \"american\")\n",
    "df_restaurants.type_of_food = df_restaurants.type_of_food.replace(\"south indian\", \"indian\")\n"
   ]
  },
  {
   "cell_type": "markdown",
   "metadata": {},
   "source": [
    "This column will need to be revisited once dataframes are merged to see if there are any food types which have few individual orders."
   ]
  },
  {
   "cell_type": "markdown",
   "metadata": {},
   "source": [
    "### *Correlation*"
   ]
  },
  {
   "cell_type": "code",
   "execution_count": 204,
   "metadata": {},
   "outputs": [
    {
     "data": {
      "text/html": [
       "<div>\n",
       "<style scoped>\n",
       "    .dataframe tbody tr th:only-of-type {\n",
       "        vertical-align: middle;\n",
       "    }\n",
       "\n",
       "    .dataframe tbody tr th {\n",
       "        vertical-align: top;\n",
       "    }\n",
       "\n",
       "    .dataframe thead th {\n",
       "        text-align: right;\n",
       "    }\n",
       "</style>\n",
       "<table border=\"1\" class=\"dataframe\">\n",
       "  <thead>\n",
       "    <tr style=\"text-align: right;\">\n",
       "      <th></th>\n",
       "      <th>order_value_gbp</th>\n",
       "      <th>restaurant_id</th>\n",
       "      <th>number_of_items</th>\n",
       "      <th>prep_time_seconds</th>\n",
       "    </tr>\n",
       "  </thead>\n",
       "  <tbody>\n",
       "    <tr>\n",
       "      <th>order_value_gbp</th>\n",
       "      <td>1.000000</td>\n",
       "      <td>-0.056161</td>\n",
       "      <td>0.537032</td>\n",
       "      <td>0.272160</td>\n",
       "    </tr>\n",
       "    <tr>\n",
       "      <th>restaurant_id</th>\n",
       "      <td>-0.056161</td>\n",
       "      <td>1.000000</td>\n",
       "      <td>-0.043202</td>\n",
       "      <td>0.009657</td>\n",
       "    </tr>\n",
       "    <tr>\n",
       "      <th>number_of_items</th>\n",
       "      <td>0.537032</td>\n",
       "      <td>-0.043202</td>\n",
       "      <td>1.000000</td>\n",
       "      <td>0.091153</td>\n",
       "    </tr>\n",
       "    <tr>\n",
       "      <th>prep_time_seconds</th>\n",
       "      <td>0.272160</td>\n",
       "      <td>0.009657</td>\n",
       "      <td>0.091153</td>\n",
       "      <td>1.000000</td>\n",
       "    </tr>\n",
       "  </tbody>\n",
       "</table>\n",
       "</div>"
      ],
      "text/plain": [
       "                   order_value_gbp  restaurant_id  number_of_items  \\\n",
       "order_value_gbp           1.000000      -0.056161         0.537032   \n",
       "restaurant_id            -0.056161       1.000000        -0.043202   \n",
       "number_of_items           0.537032      -0.043202         1.000000   \n",
       "prep_time_seconds         0.272160       0.009657         0.091153   \n",
       "\n",
       "                   prep_time_seconds  \n",
       "order_value_gbp             0.272160  \n",
       "restaurant_id               0.009657  \n",
       "number_of_items             0.091153  \n",
       "prep_time_seconds           1.000000  "
      ]
     },
     "execution_count": 204,
     "metadata": {},
     "output_type": "execute_result"
    }
   ],
   "source": [
    "df_orders.corr()"
   ]
  },
  {
   "cell_type": "markdown",
   "metadata": {},
   "source": [
    "Above we can see that *order value* and *number of items* are **moderately** correlated. This is not definitavely a problem, however, it may be useful to create one feature which captures the information of both columns or drop one of the columns completely. I would be tentitive to drop either column as I feel both capture valuable information."
   ]
  },
  {
   "cell_type": "markdown",
   "metadata": {},
   "source": [
    "### Merge Data"
   ]
  },
  {
   "cell_type": "code",
   "execution_count": 205,
   "metadata": {},
   "outputs": [
    {
     "data": {
      "text/html": [
       "<div>\n",
       "<style scoped>\n",
       "    .dataframe tbody tr th:only-of-type {\n",
       "        vertical-align: middle;\n",
       "    }\n",
       "\n",
       "    .dataframe tbody tr th {\n",
       "        vertical-align: top;\n",
       "    }\n",
       "\n",
       "    .dataframe thead th {\n",
       "        text-align: right;\n",
       "    }\n",
       "</style>\n",
       "<table border=\"1\" class=\"dataframe\">\n",
       "  <thead>\n",
       "    <tr style=\"text-align: right;\">\n",
       "      <th></th>\n",
       "      <th>order_acknowledged_at</th>\n",
       "      <th>order_value_gbp</th>\n",
       "      <th>restaurant_id</th>\n",
       "      <th>number_of_items</th>\n",
       "      <th>prep_time_seconds</th>\n",
       "    </tr>\n",
       "  </thead>\n",
       "  <tbody>\n",
       "    <tr>\n",
       "      <th>0</th>\n",
       "      <td>2015-06-01 12:28:28.952789+01:00</td>\n",
       "      <td>59.90000</td>\n",
       "      <td>1326</td>\n",
       "      <td>2</td>\n",
       "      <td>6220</td>\n",
       "    </tr>\n",
       "    <tr>\n",
       "      <th>1</th>\n",
       "      <td>2015-06-06 17:06:24.434807+01:00</td>\n",
       "      <td>24.00000</td>\n",
       "      <td>1326</td>\n",
       "      <td>8</td>\n",
       "      <td>603</td>\n",
       "    </tr>\n",
       "    <tr>\n",
       "      <th>2</th>\n",
       "      <td>2015-06-08 14:56:15.503204+01:00</td>\n",
       "      <td>15.25000</td>\n",
       "      <td>1326</td>\n",
       "      <td>3</td>\n",
       "      <td>443</td>\n",
       "    </tr>\n",
       "    <tr>\n",
       "      <th>3</th>\n",
       "      <td>2015-06-12 15:12:20.497925+01:00</td>\n",
       "      <td>28.05000</td>\n",
       "      <td>1326</td>\n",
       "      <td>8</td>\n",
       "      <td>669</td>\n",
       "    </tr>\n",
       "    <tr>\n",
       "      <th>4</th>\n",
       "      <td>2015-06-01 13:07:10.794050+01:00</td>\n",
       "      <td>56.30000</td>\n",
       "      <td>255</td>\n",
       "      <td>7</td>\n",
       "      <td>3314</td>\n",
       "    </tr>\n",
       "    <tr>\n",
       "      <th>...</th>\n",
       "      <td>...</td>\n",
       "      <td>...</td>\n",
       "      <td>...</td>\n",
       "      <td>...</td>\n",
       "      <td>...</td>\n",
       "    </tr>\n",
       "    <tr>\n",
       "      <th>32389</th>\n",
       "      <td>2015-06-30 21:00:29.131078+01:00</td>\n",
       "      <td>35.15000</td>\n",
       "      <td>3185</td>\n",
       "      <td>4</td>\n",
       "      <td>913</td>\n",
       "    </tr>\n",
       "    <tr>\n",
       "      <th>32390</th>\n",
       "      <td>2015-06-30 22:30:51.123180+02:00</td>\n",
       "      <td>9.15771</td>\n",
       "      <td>3556</td>\n",
       "      <td>3</td>\n",
       "      <td>201</td>\n",
       "    </tr>\n",
       "    <tr>\n",
       "      <th>32391</th>\n",
       "      <td>2015-06-30 21:50:11.585362+01:00</td>\n",
       "      <td>18.20000</td>\n",
       "      <td>3517</td>\n",
       "      <td>3</td>\n",
       "      <td>863</td>\n",
       "    </tr>\n",
       "    <tr>\n",
       "      <th>32392</th>\n",
       "      <td>2015-06-30 22:17:55.778938+01:00</td>\n",
       "      <td>21.50000</td>\n",
       "      <td>1705</td>\n",
       "      <td>3</td>\n",
       "      <td>1339</td>\n",
       "    </tr>\n",
       "    <tr>\n",
       "      <th>32393</th>\n",
       "      <td>2015-06-30 22:55:39.128579+01:00</td>\n",
       "      <td>15.90000</td>\n",
       "      <td>2274</td>\n",
       "      <td>3</td>\n",
       "      <td>1385</td>\n",
       "    </tr>\n",
       "  </tbody>\n",
       "</table>\n",
       "<p>32394 rows × 5 columns</p>\n",
       "</div>"
      ],
      "text/plain": [
       "                  order_acknowledged_at  order_value_gbp  restaurant_id  \\\n",
       "0      2015-06-01 12:28:28.952789+01:00         59.90000           1326   \n",
       "1      2015-06-06 17:06:24.434807+01:00         24.00000           1326   \n",
       "2      2015-06-08 14:56:15.503204+01:00         15.25000           1326   \n",
       "3      2015-06-12 15:12:20.497925+01:00         28.05000           1326   \n",
       "4      2015-06-01 13:07:10.794050+01:00         56.30000            255   \n",
       "...                                 ...              ...            ...   \n",
       "32389  2015-06-30 21:00:29.131078+01:00         35.15000           3185   \n",
       "32390  2015-06-30 22:30:51.123180+02:00          9.15771           3556   \n",
       "32391  2015-06-30 21:50:11.585362+01:00         18.20000           3517   \n",
       "32392  2015-06-30 22:17:55.778938+01:00         21.50000           1705   \n",
       "32393  2015-06-30 22:55:39.128579+01:00         15.90000           2274   \n",
       "\n",
       "       number_of_items  prep_time_seconds  \n",
       "0                    2               6220  \n",
       "1                    8                603  \n",
       "2                    3                443  \n",
       "3                    8                669  \n",
       "4                    7               3314  \n",
       "...                ...                ...  \n",
       "32389                4                913  \n",
       "32390                3                201  \n",
       "32391                3                863  \n",
       "32392                3               1339  \n",
       "32393                3               1385  \n",
       "\n",
       "[32394 rows x 5 columns]"
      ]
     },
     "execution_count": 205,
     "metadata": {},
     "output_type": "execute_result"
    }
   ],
   "source": [
    "df_orders"
   ]
  },
  {
   "cell_type": "code",
   "execution_count": 206,
   "metadata": {},
   "outputs": [
    {
     "data": {
      "text/html": [
       "<div>\n",
       "<style scoped>\n",
       "    .dataframe tbody tr th:only-of-type {\n",
       "        vertical-align: middle;\n",
       "    }\n",
       "\n",
       "    .dataframe tbody tr th {\n",
       "        vertical-align: top;\n",
       "    }\n",
       "\n",
       "    .dataframe thead th {\n",
       "        text-align: right;\n",
       "    }\n",
       "</style>\n",
       "<table border=\"1\" class=\"dataframe\">\n",
       "  <thead>\n",
       "    <tr style=\"text-align: right;\">\n",
       "      <th></th>\n",
       "      <th>restaurant_id</th>\n",
       "      <th>country</th>\n",
       "      <th>city</th>\n",
       "      <th>type_of_food</th>\n",
       "    </tr>\n",
       "  </thead>\n",
       "  <tbody>\n",
       "    <tr>\n",
       "      <th>0</th>\n",
       "      <td>3</td>\n",
       "      <td>UK</td>\n",
       "      <td>London</td>\n",
       "      <td>thai</td>\n",
       "    </tr>\n",
       "    <tr>\n",
       "      <th>1</th>\n",
       "      <td>5</td>\n",
       "      <td>UK</td>\n",
       "      <td>London</td>\n",
       "      <td>italian</td>\n",
       "    </tr>\n",
       "    <tr>\n",
       "      <th>2</th>\n",
       "      <td>7</td>\n",
       "      <td>UK</td>\n",
       "      <td>London</td>\n",
       "      <td>italian</td>\n",
       "    </tr>\n",
       "    <tr>\n",
       "      <th>3</th>\n",
       "      <td>8</td>\n",
       "      <td>UK</td>\n",
       "      <td>London</td>\n",
       "      <td>chinese</td>\n",
       "    </tr>\n",
       "    <tr>\n",
       "      <th>4</th>\n",
       "      <td>9</td>\n",
       "      <td>France</td>\n",
       "      <td>Paris</td>\n",
       "      <td>korean</td>\n",
       "    </tr>\n",
       "    <tr>\n",
       "      <th>...</th>\n",
       "      <td>...</td>\n",
       "      <td>...</td>\n",
       "      <td>...</td>\n",
       "      <td>...</td>\n",
       "    </tr>\n",
       "    <tr>\n",
       "      <th>1692</th>\n",
       "      <td>3594</td>\n",
       "      <td>UK</td>\n",
       "      <td>Leeds</td>\n",
       "      <td>sushi</td>\n",
       "    </tr>\n",
       "    <tr>\n",
       "      <th>1693</th>\n",
       "      <td>3614</td>\n",
       "      <td>France</td>\n",
       "      <td>Paris</td>\n",
       "      <td>indonesian</td>\n",
       "    </tr>\n",
       "    <tr>\n",
       "      <th>1694</th>\n",
       "      <td>3618</td>\n",
       "      <td>Ireland</td>\n",
       "      <td>Dublin</td>\n",
       "      <td>pan asian</td>\n",
       "    </tr>\n",
       "    <tr>\n",
       "      <th>1695</th>\n",
       "      <td>3620</td>\n",
       "      <td>UK</td>\n",
       "      <td>Southampton</td>\n",
       "      <td>burritos</td>\n",
       "    </tr>\n",
       "    <tr>\n",
       "      <th>1696</th>\n",
       "      <td>3622</td>\n",
       "      <td>UK</td>\n",
       "      <td>Manchester</td>\n",
       "      <td>caribbean</td>\n",
       "    </tr>\n",
       "  </tbody>\n",
       "</table>\n",
       "<p>1697 rows × 4 columns</p>\n",
       "</div>"
      ],
      "text/plain": [
       "      restaurant_id  country         city type_of_food\n",
       "0                 3       UK       London         thai\n",
       "1                 5       UK       London      italian\n",
       "2                 7       UK       London      italian\n",
       "3                 8       UK       London      chinese\n",
       "4                 9   France        Paris       korean\n",
       "...             ...      ...          ...          ...\n",
       "1692           3594       UK        Leeds        sushi\n",
       "1693           3614   France        Paris   indonesian\n",
       "1694           3618  Ireland       Dublin    pan asian\n",
       "1695           3620       UK  Southampton     burritos\n",
       "1696           3622       UK   Manchester    caribbean\n",
       "\n",
       "[1697 rows x 4 columns]"
      ]
     },
     "execution_count": 206,
     "metadata": {},
     "output_type": "execute_result"
    }
   ],
   "source": [
    "df_restaurants"
   ]
  },
  {
   "cell_type": "code",
   "execution_count": 207,
   "metadata": {},
   "outputs": [
    {
     "data": {
      "text/html": [
       "<div>\n",
       "<style scoped>\n",
       "    .dataframe tbody tr th:only-of-type {\n",
       "        vertical-align: middle;\n",
       "    }\n",
       "\n",
       "    .dataframe tbody tr th {\n",
       "        vertical-align: top;\n",
       "    }\n",
       "\n",
       "    .dataframe thead th {\n",
       "        text-align: right;\n",
       "    }\n",
       "</style>\n",
       "<table border=\"1\" class=\"dataframe\">\n",
       "  <thead>\n",
       "    <tr style=\"text-align: right;\">\n",
       "      <th></th>\n",
       "      <th>order_acknowledged_at</th>\n",
       "      <th>order_value_gbp</th>\n",
       "      <th>restaurant_id</th>\n",
       "      <th>number_of_items</th>\n",
       "      <th>prep_time_seconds</th>\n",
       "      <th>country</th>\n",
       "      <th>city</th>\n",
       "      <th>type_of_food</th>\n",
       "    </tr>\n",
       "  </thead>\n",
       "  <tbody>\n",
       "    <tr>\n",
       "      <th>0</th>\n",
       "      <td>2015-06-01 12:28:28.952789+01:00</td>\n",
       "      <td>59.90000</td>\n",
       "      <td>1326</td>\n",
       "      <td>2</td>\n",
       "      <td>6220</td>\n",
       "      <td>UK</td>\n",
       "      <td>London</td>\n",
       "      <td>burritos</td>\n",
       "    </tr>\n",
       "    <tr>\n",
       "      <th>1</th>\n",
       "      <td>2015-06-06 17:06:24.434807+01:00</td>\n",
       "      <td>24.00000</td>\n",
       "      <td>1326</td>\n",
       "      <td>8</td>\n",
       "      <td>603</td>\n",
       "      <td>UK</td>\n",
       "      <td>London</td>\n",
       "      <td>burritos</td>\n",
       "    </tr>\n",
       "    <tr>\n",
       "      <th>2</th>\n",
       "      <td>2015-06-08 14:56:15.503204+01:00</td>\n",
       "      <td>15.25000</td>\n",
       "      <td>1326</td>\n",
       "      <td>3</td>\n",
       "      <td>443</td>\n",
       "      <td>UK</td>\n",
       "      <td>London</td>\n",
       "      <td>burritos</td>\n",
       "    </tr>\n",
       "    <tr>\n",
       "      <th>3</th>\n",
       "      <td>2015-06-12 15:12:20.497925+01:00</td>\n",
       "      <td>28.05000</td>\n",
       "      <td>1326</td>\n",
       "      <td>8</td>\n",
       "      <td>669</td>\n",
       "      <td>UK</td>\n",
       "      <td>London</td>\n",
       "      <td>burritos</td>\n",
       "    </tr>\n",
       "    <tr>\n",
       "      <th>4</th>\n",
       "      <td>2015-06-01 13:07:10.794050+01:00</td>\n",
       "      <td>56.30000</td>\n",
       "      <td>255</td>\n",
       "      <td>7</td>\n",
       "      <td>3314</td>\n",
       "      <td>UK</td>\n",
       "      <td>London</td>\n",
       "      <td>chinese</td>\n",
       "    </tr>\n",
       "    <tr>\n",
       "      <th>...</th>\n",
       "      <td>...</td>\n",
       "      <td>...</td>\n",
       "      <td>...</td>\n",
       "      <td>...</td>\n",
       "      <td>...</td>\n",
       "      <td>...</td>\n",
       "      <td>...</td>\n",
       "      <td>...</td>\n",
       "    </tr>\n",
       "    <tr>\n",
       "      <th>32389</th>\n",
       "      <td>2015-06-30 21:00:29.131078+01:00</td>\n",
       "      <td>35.15000</td>\n",
       "      <td>3185</td>\n",
       "      <td>4</td>\n",
       "      <td>913</td>\n",
       "      <td>UK</td>\n",
       "      <td>Glasgow</td>\n",
       "      <td>italian</td>\n",
       "    </tr>\n",
       "    <tr>\n",
       "      <th>32390</th>\n",
       "      <td>2015-06-30 22:30:51.123180+02:00</td>\n",
       "      <td>9.15771</td>\n",
       "      <td>3556</td>\n",
       "      <td>3</td>\n",
       "      <td>201</td>\n",
       "      <td>Germany</td>\n",
       "      <td>Berlin</td>\n",
       "      <td>vietnamese</td>\n",
       "    </tr>\n",
       "    <tr>\n",
       "      <th>32391</th>\n",
       "      <td>2015-06-30 21:50:11.585362+01:00</td>\n",
       "      <td>18.20000</td>\n",
       "      <td>3517</td>\n",
       "      <td>3</td>\n",
       "      <td>863</td>\n",
       "      <td>UK</td>\n",
       "      <td>Cheltenham</td>\n",
       "      <td>indian</td>\n",
       "    </tr>\n",
       "    <tr>\n",
       "      <th>32392</th>\n",
       "      <td>2015-06-30 22:17:55.778938+01:00</td>\n",
       "      <td>21.50000</td>\n",
       "      <td>1705</td>\n",
       "      <td>3</td>\n",
       "      <td>1339</td>\n",
       "      <td>UK</td>\n",
       "      <td>London</td>\n",
       "      <td>italian</td>\n",
       "    </tr>\n",
       "    <tr>\n",
       "      <th>32393</th>\n",
       "      <td>2015-06-30 22:55:39.128579+01:00</td>\n",
       "      <td>15.90000</td>\n",
       "      <td>2274</td>\n",
       "      <td>3</td>\n",
       "      <td>1385</td>\n",
       "      <td>UK</td>\n",
       "      <td>Birmingham</td>\n",
       "      <td>caribbean</td>\n",
       "    </tr>\n",
       "  </tbody>\n",
       "</table>\n",
       "<p>32394 rows × 8 columns</p>\n",
       "</div>"
      ],
      "text/plain": [
       "                  order_acknowledged_at  order_value_gbp  restaurant_id  \\\n",
       "0      2015-06-01 12:28:28.952789+01:00         59.90000           1326   \n",
       "1      2015-06-06 17:06:24.434807+01:00         24.00000           1326   \n",
       "2      2015-06-08 14:56:15.503204+01:00         15.25000           1326   \n",
       "3      2015-06-12 15:12:20.497925+01:00         28.05000           1326   \n",
       "4      2015-06-01 13:07:10.794050+01:00         56.30000            255   \n",
       "...                                 ...              ...            ...   \n",
       "32389  2015-06-30 21:00:29.131078+01:00         35.15000           3185   \n",
       "32390  2015-06-30 22:30:51.123180+02:00          9.15771           3556   \n",
       "32391  2015-06-30 21:50:11.585362+01:00         18.20000           3517   \n",
       "32392  2015-06-30 22:17:55.778938+01:00         21.50000           1705   \n",
       "32393  2015-06-30 22:55:39.128579+01:00         15.90000           2274   \n",
       "\n",
       "       number_of_items  prep_time_seconds  country        city type_of_food  \n",
       "0                    2               6220       UK      London     burritos  \n",
       "1                    8                603       UK      London     burritos  \n",
       "2                    3                443       UK      London     burritos  \n",
       "3                    8                669       UK      London     burritos  \n",
       "4                    7               3314       UK      London      chinese  \n",
       "...                ...                ...      ...         ...          ...  \n",
       "32389                4                913       UK     Glasgow      italian  \n",
       "32390                3                201  Germany      Berlin   vietnamese  \n",
       "32391                3                863       UK  Cheltenham       indian  \n",
       "32392                3               1339       UK      London      italian  \n",
       "32393                3               1385       UK  Birmingham    caribbean  \n",
       "\n",
       "[32394 rows x 8 columns]"
      ]
     },
     "execution_count": 207,
     "metadata": {},
     "output_type": "execute_result"
    }
   ],
   "source": [
    "df_train = df_orders.merge(df_restaurants)\n",
    "df_train"
   ]
  },
  {
   "cell_type": "code",
   "execution_count": 215,
   "metadata": {},
   "outputs": [
    {
     "data": {
      "text/plain": [
       "pan asian         933\n",
       "british           882\n",
       "pizza             806\n",
       "mexican           653\n",
       "burritos          608\n",
       "french            604\n",
       "dessert           430\n",
       "korean            387\n",
       "turkish           360\n",
       "greek             334\n",
       "deli              313\n",
       "argentinian       311\n",
       "mediterranean     309\n",
       "fish and chips    282\n",
       "persian           270\n",
       "international     246\n",
       "european          229\n",
       "bbq               227\n",
       "south american    221\n",
       "middle eastern    193\n",
       "seafood           136\n",
       "australian        108\n",
       "spanish           101\n",
       "bakery             69\n",
       "juices             64\n",
       "Name: type_of_food, dtype: int64"
      ]
     },
     "execution_count": 215,
     "metadata": {},
     "output_type": "execute_result"
    }
   ],
   "source": [
    "df_train.type_of_food.value_counts().tail(25)"
   ]
  },
  {
   "cell_type": "code",
   "execution_count": 214,
   "metadata": {},
   "outputs": [],
   "source": [
    "df_train.type_of_food = df_train.type_of_food.replace(\"irish\", \"european\")\n",
    "df_train.type_of_food = df_train.type_of_food.replace(\"russian\", \"international\")\n",
    "df_train.type_of_food = df_train.type_of_food.replace(\"bagels\", \"deli\")\n",
    "df_train.type_of_food = df_train.type_of_food.replace(\"sandwiches\", \"deli\")\n",
    "df_train.type_of_food = df_train.type_of_food.replace(\"gluten free\", \"healthy\")\n",
    "df_train.type_of_food = df_train.type_of_food.replace(\"georgian\", \"international\")\n",
    "df_train.type_of_food = df_train.type_of_food.replace(\"bistro\", \"international\")\n",
    "df_train.type_of_food = df_train.type_of_food.replace(\"north african\", \"middle eastern\")\n",
    "df_train.type_of_food = df_train.type_of_food.replace(\"nepalese\", \"indian\")\n",
    "df_train.type_of_food = df_train.type_of_food.replace(\"german\", \"european\")\n",
    "df_train.type_of_food = df_train.type_of_food.replace(\"vegan\", \"healthy\")\n",
    "df_train.type_of_food = df_train.type_of_food.replace(\"indonesian\", \"thai\")\n",
    "df_train.type_of_food = df_train.type_of_food.replace(\"sushi\", \"seafood\")\n",
    "df_train.type_of_food = df_train.type_of_food.replace(\"latin american\", \"mexican\")\n",
    "df_train.type_of_food = df_train.type_of_food.replace(\"rotisserie\", \"chicken\")\n",
    "df_train.type_of_food = df_train.type_of_food.replace(\"brazilian\", \"south american\")\n",
    "df_train.type_of_food = df_train.type_of_food.replace(\"peruvian\", \"south american\")\n",
    "df_train.type_of_food = df_train.type_of_food.replace(\"caribbean\", \"international\")\n"
   ]
  },
  {
   "cell_type": "code",
   "execution_count": 217,
   "metadata": {},
   "outputs": [],
   "source": [
    "df_train.to_csv(\"data/clean_data.csv\", index=False)"
   ]
  },
  {
   "cell_type": "code",
   "execution_count": null,
   "metadata": {},
   "outputs": [],
   "source": []
  }
 ],
 "metadata": {
  "kernelspec": {
   "display_name": "Python 3.9.13 64-bit",
   "language": "python",
   "name": "python3"
  },
  "language_info": {
   "codemirror_mode": {
    "name": "ipython",
    "version": 3
   },
   "file_extension": ".py",
   "mimetype": "text/x-python",
   "name": "python",
   "nbconvert_exporter": "python",
   "pygments_lexer": "ipython3",
   "version": "3.9.13"
  },
  "orig_nbformat": 4,
  "vscode": {
   "interpreter": {
    "hash": "aee8b7b246df8f9039afb4144a1f6fd8d2ca17a180786b69acc140d282b71a49"
   }
  }
 },
 "nbformat": 4,
 "nbformat_minor": 2
}
